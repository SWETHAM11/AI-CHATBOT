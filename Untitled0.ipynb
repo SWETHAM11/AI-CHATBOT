{
  "nbformat": 4,
  "nbformat_minor": 0,
  "metadata": {
    "colab": {
      "provenance": [],
      "authorship_tag": "ABX9TyMzwtuIs/x270Wn27/QhqgH",
      "include_colab_link": true
    },
    "kernelspec": {
      "name": "python3",
      "display_name": "Python 3"
    },
    "language_info": {
      "name": "python"
    }
  },
  "cells": [
    {
      "cell_type": "markdown",
      "metadata": {
        "id": "view-in-github",
        "colab_type": "text"
      },
      "source": [
        "<a href=\"https://colab.research.google.com/github/SWETHAM11/AI-CHATBOT/blob/main/Untitled0.ipynb\" target=\"_parent\"><img src=\"https://colab.research.google.com/assets/colab-badge.svg\" alt=\"Open In Colab\"/></a>"
      ]
    },
    {
      "cell_type": "code",
      "execution_count": 1,
      "metadata": {
        "colab": {
          "base_uri": "https://localhost:8080/"
        },
        "id": "bKNKOxxvU5ID",
        "outputId": "37a72233-f7a7-4cb3-b2b5-96f492fdf023"
      },
      "outputs": [
        {
          "output_type": "stream",
          "name": "stdout",
          "text": [
            "Bhavani 1234 1.3 (2+3j)\n"
          ]
        }
      ],
      "source": [
        "a, b, c, d = \"Bhavani\", 1234, 1.3, 2 + 3j\n",
        "print(a, b, c, d)"
      ]
    }
  ]
}